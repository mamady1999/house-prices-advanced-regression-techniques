{
 "cells": [
  {
   "cell_type": "markdown",
   "metadata": {},
   "source": [
    "### Introduction :\n",
    "Ask a home buyer to describe their dream house, and they probably won't begin with the height of the basement ceiling or the proximity to an east-west railroad. But this playground competition's dataset proves that much more influences price negotiations than the number of bedrooms or a white-picket fence.\n",
    "\n",
    "With 79 explanatory variables describing (almost) every aspect of residential homes in Ames, Iowa, this competition challenges you to predict the final price of each home.\n",
    "\n",
    "### Practice Skills\n",
    "Creative feature engineering \n",
    "Advanced regression techniques like random forest and gradient boosting\n",
    "\n",
    "### Acknowledgments\n",
    "The Ames Housing dataset was compiled by Dean De Cock for use in data science education. It's an incredible alternative for data scientists looking for a modernized and expanded version of the often cited Boston Housing dataset. \n",
    "\n",
    "### Data :\n",
    "train.csv and test.csv was provided by kaggle."
   ]
  },
  {
   "cell_type": "markdown",
   "metadata": {},
   "source": [
    "### Project Goals :\n",
    "The objective of this challenge is to use our knowledge of machine learning and data science to predict house prices."
   ]
  },
  {
   "cell_type": "markdown",
   "metadata": {},
   "source": [
    "### Data :\n",
    "In this project, we will use the train.csv data to form the model and test.csv to test our model.\n",
    "Each column in the dataset represents a characteristic and each row is a sample."
   ]
  },
  {
   "cell_type": "markdown",
   "metadata": {},
   "source": [
    "### Analysis : \n",
    "In this project we will use our knowledge of descriptive statistics and data visualisation to summarise the data. As we have to make a prediction, we will use regression algorithms typical of supervised learning."
   ]
  },
  {
   "cell_type": "markdown",
   "metadata": {},
   "source": [
    "### Evaluation :\n",
    "We will use test data for evaluation and the r2 score as a metric for our evaluation on test data."
   ]
  },
  {
   "cell_type": "markdown",
   "metadata": {},
   "source": [
    "### Import of modules"
   ]
  },
  {
   "cell_type": "code",
   "execution_count": 1,
   "metadata": {},
   "outputs": [],
   "source": [
    "import numpy as np\n",
    "import pandas as pd\n",
    "import seaborn as sns\n",
    "from matplotlib import pyplot as plt\n",
    "%matplotlib inline"
   ]
  },
  {
   "cell_type": "markdown",
   "metadata": {},
   "source": [
    "### Collecting the data "
   ]
  },
  {
   "cell_type": "code",
   "execution_count": 2,
   "metadata": {},
   "outputs": [
    {
     "data": {
      "text/html": [
       "<div>\n",
       "<style scoped>\n",
       "    .dataframe tbody tr th:only-of-type {\n",
       "        vertical-align: middle;\n",
       "    }\n",
       "\n",
       "    .dataframe tbody tr th {\n",
       "        vertical-align: top;\n",
       "    }\n",
       "\n",
       "    .dataframe thead th {\n",
       "        text-align: right;\n",
       "    }\n",
       "</style>\n",
       "<table border=\"1\" class=\"dataframe\">\n",
       "  <thead>\n",
       "    <tr style=\"text-align: right;\">\n",
       "      <th></th>\n",
       "      <th>Id</th>\n",
       "      <th>MSSubClass</th>\n",
       "      <th>MSZoning</th>\n",
       "      <th>LotFrontage</th>\n",
       "      <th>LotArea</th>\n",
       "      <th>Street</th>\n",
       "      <th>Alley</th>\n",
       "      <th>LotShape</th>\n",
       "      <th>LandContour</th>\n",
       "      <th>Utilities</th>\n",
       "      <th>...</th>\n",
       "      <th>PoolArea</th>\n",
       "      <th>PoolQC</th>\n",
       "      <th>Fence</th>\n",
       "      <th>MiscFeature</th>\n",
       "      <th>MiscVal</th>\n",
       "      <th>MoSold</th>\n",
       "      <th>YrSold</th>\n",
       "      <th>SaleType</th>\n",
       "      <th>SaleCondition</th>\n",
       "      <th>SalePrice</th>\n",
       "    </tr>\n",
       "  </thead>\n",
       "  <tbody>\n",
       "    <tr>\n",
       "      <th>0</th>\n",
       "      <td>1</td>\n",
       "      <td>60</td>\n",
       "      <td>RL</td>\n",
       "      <td>65.0</td>\n",
       "      <td>8450</td>\n",
       "      <td>Pave</td>\n",
       "      <td>NaN</td>\n",
       "      <td>Reg</td>\n",
       "      <td>Lvl</td>\n",
       "      <td>AllPub</td>\n",
       "      <td>...</td>\n",
       "      <td>0</td>\n",
       "      <td>NaN</td>\n",
       "      <td>NaN</td>\n",
       "      <td>NaN</td>\n",
       "      <td>0</td>\n",
       "      <td>2</td>\n",
       "      <td>2008</td>\n",
       "      <td>WD</td>\n",
       "      <td>Normal</td>\n",
       "      <td>208500</td>\n",
       "    </tr>\n",
       "    <tr>\n",
       "      <th>1</th>\n",
       "      <td>2</td>\n",
       "      <td>20</td>\n",
       "      <td>RL</td>\n",
       "      <td>80.0</td>\n",
       "      <td>9600</td>\n",
       "      <td>Pave</td>\n",
       "      <td>NaN</td>\n",
       "      <td>Reg</td>\n",
       "      <td>Lvl</td>\n",
       "      <td>AllPub</td>\n",
       "      <td>...</td>\n",
       "      <td>0</td>\n",
       "      <td>NaN</td>\n",
       "      <td>NaN</td>\n",
       "      <td>NaN</td>\n",
       "      <td>0</td>\n",
       "      <td>5</td>\n",
       "      <td>2007</td>\n",
       "      <td>WD</td>\n",
       "      <td>Normal</td>\n",
       "      <td>181500</td>\n",
       "    </tr>\n",
       "    <tr>\n",
       "      <th>2</th>\n",
       "      <td>3</td>\n",
       "      <td>60</td>\n",
       "      <td>RL</td>\n",
       "      <td>68.0</td>\n",
       "      <td>11250</td>\n",
       "      <td>Pave</td>\n",
       "      <td>NaN</td>\n",
       "      <td>IR1</td>\n",
       "      <td>Lvl</td>\n",
       "      <td>AllPub</td>\n",
       "      <td>...</td>\n",
       "      <td>0</td>\n",
       "      <td>NaN</td>\n",
       "      <td>NaN</td>\n",
       "      <td>NaN</td>\n",
       "      <td>0</td>\n",
       "      <td>9</td>\n",
       "      <td>2008</td>\n",
       "      <td>WD</td>\n",
       "      <td>Normal</td>\n",
       "      <td>223500</td>\n",
       "    </tr>\n",
       "    <tr>\n",
       "      <th>3</th>\n",
       "      <td>4</td>\n",
       "      <td>70</td>\n",
       "      <td>RL</td>\n",
       "      <td>60.0</td>\n",
       "      <td>9550</td>\n",
       "      <td>Pave</td>\n",
       "      <td>NaN</td>\n",
       "      <td>IR1</td>\n",
       "      <td>Lvl</td>\n",
       "      <td>AllPub</td>\n",
       "      <td>...</td>\n",
       "      <td>0</td>\n",
       "      <td>NaN</td>\n",
       "      <td>NaN</td>\n",
       "      <td>NaN</td>\n",
       "      <td>0</td>\n",
       "      <td>2</td>\n",
       "      <td>2006</td>\n",
       "      <td>WD</td>\n",
       "      <td>Abnorml</td>\n",
       "      <td>140000</td>\n",
       "    </tr>\n",
       "    <tr>\n",
       "      <th>4</th>\n",
       "      <td>5</td>\n",
       "      <td>60</td>\n",
       "      <td>RL</td>\n",
       "      <td>84.0</td>\n",
       "      <td>14260</td>\n",
       "      <td>Pave</td>\n",
       "      <td>NaN</td>\n",
       "      <td>IR1</td>\n",
       "      <td>Lvl</td>\n",
       "      <td>AllPub</td>\n",
       "      <td>...</td>\n",
       "      <td>0</td>\n",
       "      <td>NaN</td>\n",
       "      <td>NaN</td>\n",
       "      <td>NaN</td>\n",
       "      <td>0</td>\n",
       "      <td>12</td>\n",
       "      <td>2008</td>\n",
       "      <td>WD</td>\n",
       "      <td>Normal</td>\n",
       "      <td>250000</td>\n",
       "    </tr>\n",
       "  </tbody>\n",
       "</table>\n",
       "<p>5 rows × 81 columns</p>\n",
       "</div>"
      ],
      "text/plain": [
       "   Id  MSSubClass MSZoning  LotFrontage  LotArea Street Alley LotShape  \\\n",
       "0   1          60       RL         65.0     8450   Pave   NaN      Reg   \n",
       "1   2          20       RL         80.0     9600   Pave   NaN      Reg   \n",
       "2   3          60       RL         68.0    11250   Pave   NaN      IR1   \n",
       "3   4          70       RL         60.0     9550   Pave   NaN      IR1   \n",
       "4   5          60       RL         84.0    14260   Pave   NaN      IR1   \n",
       "\n",
       "  LandContour Utilities  ... PoolArea PoolQC Fence MiscFeature MiscVal MoSold  \\\n",
       "0         Lvl    AllPub  ...        0    NaN   NaN         NaN       0      2   \n",
       "1         Lvl    AllPub  ...        0    NaN   NaN         NaN       0      5   \n",
       "2         Lvl    AllPub  ...        0    NaN   NaN         NaN       0      9   \n",
       "3         Lvl    AllPub  ...        0    NaN   NaN         NaN       0      2   \n",
       "4         Lvl    AllPub  ...        0    NaN   NaN         NaN       0     12   \n",
       "\n",
       "  YrSold  SaleType  SaleCondition  SalePrice  \n",
       "0   2008        WD         Normal     208500  \n",
       "1   2007        WD         Normal     181500  \n",
       "2   2008        WD         Normal     223500  \n",
       "3   2006        WD        Abnorml     140000  \n",
       "4   2008        WD         Normal     250000  \n",
       "\n",
       "[5 rows x 81 columns]"
      ]
     },
     "execution_count": 2,
     "metadata": {},
     "output_type": "execute_result"
    }
   ],
   "source": [
    "#train_data\n",
    "train_data = pd.read_csv(\"train.csv\")\n",
    "train_data.head()"
   ]
  },
  {
   "cell_type": "code",
   "execution_count": 3,
   "metadata": {},
   "outputs": [
    {
     "data": {
      "text/html": [
       "<div>\n",
       "<style scoped>\n",
       "    .dataframe tbody tr th:only-of-type {\n",
       "        vertical-align: middle;\n",
       "    }\n",
       "\n",
       "    .dataframe tbody tr th {\n",
       "        vertical-align: top;\n",
       "    }\n",
       "\n",
       "    .dataframe thead th {\n",
       "        text-align: right;\n",
       "    }\n",
       "</style>\n",
       "<table border=\"1\" class=\"dataframe\">\n",
       "  <thead>\n",
       "    <tr style=\"text-align: right;\">\n",
       "      <th></th>\n",
       "      <th>Id</th>\n",
       "      <th>MSSubClass</th>\n",
       "      <th>MSZoning</th>\n",
       "      <th>LotFrontage</th>\n",
       "      <th>LotArea</th>\n",
       "      <th>Street</th>\n",
       "      <th>Alley</th>\n",
       "      <th>LotShape</th>\n",
       "      <th>LandContour</th>\n",
       "      <th>Utilities</th>\n",
       "      <th>...</th>\n",
       "      <th>ScreenPorch</th>\n",
       "      <th>PoolArea</th>\n",
       "      <th>PoolQC</th>\n",
       "      <th>Fence</th>\n",
       "      <th>MiscFeature</th>\n",
       "      <th>MiscVal</th>\n",
       "      <th>MoSold</th>\n",
       "      <th>YrSold</th>\n",
       "      <th>SaleType</th>\n",
       "      <th>SaleCondition</th>\n",
       "    </tr>\n",
       "  </thead>\n",
       "  <tbody>\n",
       "    <tr>\n",
       "      <th>0</th>\n",
       "      <td>1</td>\n",
       "      <td>60</td>\n",
       "      <td>RL</td>\n",
       "      <td>65.0</td>\n",
       "      <td>8450</td>\n",
       "      <td>Pave</td>\n",
       "      <td>NaN</td>\n",
       "      <td>Reg</td>\n",
       "      <td>Lvl</td>\n",
       "      <td>AllPub</td>\n",
       "      <td>...</td>\n",
       "      <td>0</td>\n",
       "      <td>0</td>\n",
       "      <td>NaN</td>\n",
       "      <td>NaN</td>\n",
       "      <td>NaN</td>\n",
       "      <td>0</td>\n",
       "      <td>2</td>\n",
       "      <td>2008</td>\n",
       "      <td>WD</td>\n",
       "      <td>Normal</td>\n",
       "    </tr>\n",
       "    <tr>\n",
       "      <th>1</th>\n",
       "      <td>2</td>\n",
       "      <td>20</td>\n",
       "      <td>RL</td>\n",
       "      <td>80.0</td>\n",
       "      <td>9600</td>\n",
       "      <td>Pave</td>\n",
       "      <td>NaN</td>\n",
       "      <td>Reg</td>\n",
       "      <td>Lvl</td>\n",
       "      <td>AllPub</td>\n",
       "      <td>...</td>\n",
       "      <td>0</td>\n",
       "      <td>0</td>\n",
       "      <td>NaN</td>\n",
       "      <td>NaN</td>\n",
       "      <td>NaN</td>\n",
       "      <td>0</td>\n",
       "      <td>5</td>\n",
       "      <td>2007</td>\n",
       "      <td>WD</td>\n",
       "      <td>Normal</td>\n",
       "    </tr>\n",
       "    <tr>\n",
       "      <th>2</th>\n",
       "      <td>3</td>\n",
       "      <td>60</td>\n",
       "      <td>RL</td>\n",
       "      <td>68.0</td>\n",
       "      <td>11250</td>\n",
       "      <td>Pave</td>\n",
       "      <td>NaN</td>\n",
       "      <td>IR1</td>\n",
       "      <td>Lvl</td>\n",
       "      <td>AllPub</td>\n",
       "      <td>...</td>\n",
       "      <td>0</td>\n",
       "      <td>0</td>\n",
       "      <td>NaN</td>\n",
       "      <td>NaN</td>\n",
       "      <td>NaN</td>\n",
       "      <td>0</td>\n",
       "      <td>9</td>\n",
       "      <td>2008</td>\n",
       "      <td>WD</td>\n",
       "      <td>Normal</td>\n",
       "    </tr>\n",
       "    <tr>\n",
       "      <th>3</th>\n",
       "      <td>4</td>\n",
       "      <td>70</td>\n",
       "      <td>RL</td>\n",
       "      <td>60.0</td>\n",
       "      <td>9550</td>\n",
       "      <td>Pave</td>\n",
       "      <td>NaN</td>\n",
       "      <td>IR1</td>\n",
       "      <td>Lvl</td>\n",
       "      <td>AllPub</td>\n",
       "      <td>...</td>\n",
       "      <td>0</td>\n",
       "      <td>0</td>\n",
       "      <td>NaN</td>\n",
       "      <td>NaN</td>\n",
       "      <td>NaN</td>\n",
       "      <td>0</td>\n",
       "      <td>2</td>\n",
       "      <td>2006</td>\n",
       "      <td>WD</td>\n",
       "      <td>Abnorml</td>\n",
       "    </tr>\n",
       "    <tr>\n",
       "      <th>4</th>\n",
       "      <td>5</td>\n",
       "      <td>60</td>\n",
       "      <td>RL</td>\n",
       "      <td>84.0</td>\n",
       "      <td>14260</td>\n",
       "      <td>Pave</td>\n",
       "      <td>NaN</td>\n",
       "      <td>IR1</td>\n",
       "      <td>Lvl</td>\n",
       "      <td>AllPub</td>\n",
       "      <td>...</td>\n",
       "      <td>0</td>\n",
       "      <td>0</td>\n",
       "      <td>NaN</td>\n",
       "      <td>NaN</td>\n",
       "      <td>NaN</td>\n",
       "      <td>0</td>\n",
       "      <td>12</td>\n",
       "      <td>2008</td>\n",
       "      <td>WD</td>\n",
       "      <td>Normal</td>\n",
       "    </tr>\n",
       "    <tr>\n",
       "      <th>...</th>\n",
       "      <td>...</td>\n",
       "      <td>...</td>\n",
       "      <td>...</td>\n",
       "      <td>...</td>\n",
       "      <td>...</td>\n",
       "      <td>...</td>\n",
       "      <td>...</td>\n",
       "      <td>...</td>\n",
       "      <td>...</td>\n",
       "      <td>...</td>\n",
       "      <td>...</td>\n",
       "      <td>...</td>\n",
       "      <td>...</td>\n",
       "      <td>...</td>\n",
       "      <td>...</td>\n",
       "      <td>...</td>\n",
       "      <td>...</td>\n",
       "      <td>...</td>\n",
       "      <td>...</td>\n",
       "      <td>...</td>\n",
       "      <td>...</td>\n",
       "    </tr>\n",
       "    <tr>\n",
       "      <th>1455</th>\n",
       "      <td>1456</td>\n",
       "      <td>60</td>\n",
       "      <td>RL</td>\n",
       "      <td>62.0</td>\n",
       "      <td>7917</td>\n",
       "      <td>Pave</td>\n",
       "      <td>NaN</td>\n",
       "      <td>Reg</td>\n",
       "      <td>Lvl</td>\n",
       "      <td>AllPub</td>\n",
       "      <td>...</td>\n",
       "      <td>0</td>\n",
       "      <td>0</td>\n",
       "      <td>NaN</td>\n",
       "      <td>NaN</td>\n",
       "      <td>NaN</td>\n",
       "      <td>0</td>\n",
       "      <td>8</td>\n",
       "      <td>2007</td>\n",
       "      <td>WD</td>\n",
       "      <td>Normal</td>\n",
       "    </tr>\n",
       "    <tr>\n",
       "      <th>1456</th>\n",
       "      <td>1457</td>\n",
       "      <td>20</td>\n",
       "      <td>RL</td>\n",
       "      <td>85.0</td>\n",
       "      <td>13175</td>\n",
       "      <td>Pave</td>\n",
       "      <td>NaN</td>\n",
       "      <td>Reg</td>\n",
       "      <td>Lvl</td>\n",
       "      <td>AllPub</td>\n",
       "      <td>...</td>\n",
       "      <td>0</td>\n",
       "      <td>0</td>\n",
       "      <td>NaN</td>\n",
       "      <td>MnPrv</td>\n",
       "      <td>NaN</td>\n",
       "      <td>0</td>\n",
       "      <td>2</td>\n",
       "      <td>2010</td>\n",
       "      <td>WD</td>\n",
       "      <td>Normal</td>\n",
       "    </tr>\n",
       "    <tr>\n",
       "      <th>1457</th>\n",
       "      <td>1458</td>\n",
       "      <td>70</td>\n",
       "      <td>RL</td>\n",
       "      <td>66.0</td>\n",
       "      <td>9042</td>\n",
       "      <td>Pave</td>\n",
       "      <td>NaN</td>\n",
       "      <td>Reg</td>\n",
       "      <td>Lvl</td>\n",
       "      <td>AllPub</td>\n",
       "      <td>...</td>\n",
       "      <td>0</td>\n",
       "      <td>0</td>\n",
       "      <td>NaN</td>\n",
       "      <td>GdPrv</td>\n",
       "      <td>Shed</td>\n",
       "      <td>2500</td>\n",
       "      <td>5</td>\n",
       "      <td>2010</td>\n",
       "      <td>WD</td>\n",
       "      <td>Normal</td>\n",
       "    </tr>\n",
       "    <tr>\n",
       "      <th>1458</th>\n",
       "      <td>1459</td>\n",
       "      <td>20</td>\n",
       "      <td>RL</td>\n",
       "      <td>68.0</td>\n",
       "      <td>9717</td>\n",
       "      <td>Pave</td>\n",
       "      <td>NaN</td>\n",
       "      <td>Reg</td>\n",
       "      <td>Lvl</td>\n",
       "      <td>AllPub</td>\n",
       "      <td>...</td>\n",
       "      <td>0</td>\n",
       "      <td>0</td>\n",
       "      <td>NaN</td>\n",
       "      <td>NaN</td>\n",
       "      <td>NaN</td>\n",
       "      <td>0</td>\n",
       "      <td>4</td>\n",
       "      <td>2010</td>\n",
       "      <td>WD</td>\n",
       "      <td>Normal</td>\n",
       "    </tr>\n",
       "    <tr>\n",
       "      <th>1459</th>\n",
       "      <td>1460</td>\n",
       "      <td>20</td>\n",
       "      <td>RL</td>\n",
       "      <td>75.0</td>\n",
       "      <td>9937</td>\n",
       "      <td>Pave</td>\n",
       "      <td>NaN</td>\n",
       "      <td>Reg</td>\n",
       "      <td>Lvl</td>\n",
       "      <td>AllPub</td>\n",
       "      <td>...</td>\n",
       "      <td>0</td>\n",
       "      <td>0</td>\n",
       "      <td>NaN</td>\n",
       "      <td>NaN</td>\n",
       "      <td>NaN</td>\n",
       "      <td>0</td>\n",
       "      <td>6</td>\n",
       "      <td>2008</td>\n",
       "      <td>WD</td>\n",
       "      <td>Normal</td>\n",
       "    </tr>\n",
       "  </tbody>\n",
       "</table>\n",
       "<p>1460 rows × 80 columns</p>\n",
       "</div>"
      ],
      "text/plain": [
       "        Id  MSSubClass MSZoning  LotFrontage  LotArea Street Alley LotShape  \\\n",
       "0        1          60       RL         65.0     8450   Pave   NaN      Reg   \n",
       "1        2          20       RL         80.0     9600   Pave   NaN      Reg   \n",
       "2        3          60       RL         68.0    11250   Pave   NaN      IR1   \n",
       "3        4          70       RL         60.0     9550   Pave   NaN      IR1   \n",
       "4        5          60       RL         84.0    14260   Pave   NaN      IR1   \n",
       "...    ...         ...      ...          ...      ...    ...   ...      ...   \n",
       "1455  1456          60       RL         62.0     7917   Pave   NaN      Reg   \n",
       "1456  1457          20       RL         85.0    13175   Pave   NaN      Reg   \n",
       "1457  1458          70       RL         66.0     9042   Pave   NaN      Reg   \n",
       "1458  1459          20       RL         68.0     9717   Pave   NaN      Reg   \n",
       "1459  1460          20       RL         75.0     9937   Pave   NaN      Reg   \n",
       "\n",
       "     LandContour Utilities  ... ScreenPorch PoolArea PoolQC  Fence  \\\n",
       "0            Lvl    AllPub  ...           0        0    NaN    NaN   \n",
       "1            Lvl    AllPub  ...           0        0    NaN    NaN   \n",
       "2            Lvl    AllPub  ...           0        0    NaN    NaN   \n",
       "3            Lvl    AllPub  ...           0        0    NaN    NaN   \n",
       "4            Lvl    AllPub  ...           0        0    NaN    NaN   \n",
       "...          ...       ...  ...         ...      ...    ...    ...   \n",
       "1455         Lvl    AllPub  ...           0        0    NaN    NaN   \n",
       "1456         Lvl    AllPub  ...           0        0    NaN  MnPrv   \n",
       "1457         Lvl    AllPub  ...           0        0    NaN  GdPrv   \n",
       "1458         Lvl    AllPub  ...           0        0    NaN    NaN   \n",
       "1459         Lvl    AllPub  ...           0        0    NaN    NaN   \n",
       "\n",
       "     MiscFeature MiscVal MoSold  YrSold  SaleType  SaleCondition  \n",
       "0            NaN       0      2    2008        WD         Normal  \n",
       "1            NaN       0      5    2007        WD         Normal  \n",
       "2            NaN       0      9    2008        WD         Normal  \n",
       "3            NaN       0      2    2006        WD        Abnorml  \n",
       "4            NaN       0     12    2008        WD         Normal  \n",
       "...          ...     ...    ...     ...       ...            ...  \n",
       "1455         NaN       0      8    2007        WD         Normal  \n",
       "1456         NaN       0      2    2010        WD         Normal  \n",
       "1457        Shed    2500      5    2010        WD         Normal  \n",
       "1458         NaN       0      4    2010        WD         Normal  \n",
       "1459         NaN       0      6    2008        WD         Normal  \n",
       "\n",
       "[1460 rows x 80 columns]"
      ]
     },
     "execution_count": 3,
     "metadata": {},
     "output_type": "execute_result"
    }
   ],
   "source": [
    "X_train_ = train_data.drop(\"SalePrice\", axis = 1)\n",
    "X_train_"
   ]
  },
  {
   "cell_type": "code",
   "execution_count": 4,
   "metadata": {},
   "outputs": [
    {
     "data": {
      "text/plain": [
       "0       208500\n",
       "1       181500\n",
       "2       223500\n",
       "3       140000\n",
       "4       250000\n",
       "         ...  \n",
       "1455    175000\n",
       "1456    210000\n",
       "1457    266500\n",
       "1458    142125\n",
       "1459    147500\n",
       "Name: SalePrice, Length: 1460, dtype: int64"
      ]
     },
     "execution_count": 4,
     "metadata": {},
     "output_type": "execute_result"
    }
   ],
   "source": [
    "y_ = train_data.loc[:,\"SalePrice\"]\n",
    "y_"
   ]
  },
  {
   "cell_type": "code",
   "execution_count": 5,
   "metadata": {},
   "outputs": [
    {
     "name": "stdout",
     "output_type": "stream",
     "text": [
      "<class 'pandas.core.frame.DataFrame'>\n",
      "RangeIndex: 1460 entries, 0 to 1459\n",
      "Data columns (total 81 columns):\n",
      " #   Column         Non-Null Count  Dtype  \n",
      "---  ------         --------------  -----  \n",
      " 0   Id             1460 non-null   int64  \n",
      " 1   MSSubClass     1460 non-null   int64  \n",
      " 2   MSZoning       1460 non-null   object \n",
      " 3   LotFrontage    1201 non-null   float64\n",
      " 4   LotArea        1460 non-null   int64  \n",
      " 5   Street         1460 non-null   object \n",
      " 6   Alley          91 non-null     object \n",
      " 7   LotShape       1460 non-null   object \n",
      " 8   LandContour    1460 non-null   object \n",
      " 9   Utilities      1460 non-null   object \n",
      " 10  LotConfig      1460 non-null   object \n",
      " 11  LandSlope      1460 non-null   object \n",
      " 12  Neighborhood   1460 non-null   object \n",
      " 13  Condition1     1460 non-null   object \n",
      " 14  Condition2     1460 non-null   object \n",
      " 15  BldgType       1460 non-null   object \n",
      " 16  HouseStyle     1460 non-null   object \n",
      " 17  OverallQual    1460 non-null   int64  \n",
      " 18  OverallCond    1460 non-null   int64  \n",
      " 19  YearBuilt      1460 non-null   int64  \n",
      " 20  YearRemodAdd   1460 non-null   int64  \n",
      " 21  RoofStyle      1460 non-null   object \n",
      " 22  RoofMatl       1460 non-null   object \n",
      " 23  Exterior1st    1460 non-null   object \n",
      " 24  Exterior2nd    1460 non-null   object \n",
      " 25  MasVnrType     1452 non-null   object \n",
      " 26  MasVnrArea     1452 non-null   float64\n",
      " 27  ExterQual      1460 non-null   object \n",
      " 28  ExterCond      1460 non-null   object \n",
      " 29  Foundation     1460 non-null   object \n",
      " 30  BsmtQual       1423 non-null   object \n",
      " 31  BsmtCond       1423 non-null   object \n",
      " 32  BsmtExposure   1422 non-null   object \n",
      " 33  BsmtFinType1   1423 non-null   object \n",
      " 34  BsmtFinSF1     1460 non-null   int64  \n",
      " 35  BsmtFinType2   1422 non-null   object \n",
      " 36  BsmtFinSF2     1460 non-null   int64  \n",
      " 37  BsmtUnfSF      1460 non-null   int64  \n",
      " 38  TotalBsmtSF    1460 non-null   int64  \n",
      " 39  Heating        1460 non-null   object \n",
      " 40  HeatingQC      1460 non-null   object \n",
      " 41  CentralAir     1460 non-null   object \n",
      " 42  Electrical     1459 non-null   object \n",
      " 43  1stFlrSF       1460 non-null   int64  \n",
      " 44  2ndFlrSF       1460 non-null   int64  \n",
      " 45  LowQualFinSF   1460 non-null   int64  \n",
      " 46  GrLivArea      1460 non-null   int64  \n",
      " 47  BsmtFullBath   1460 non-null   int64  \n",
      " 48  BsmtHalfBath   1460 non-null   int64  \n",
      " 49  FullBath       1460 non-null   int64  \n",
      " 50  HalfBath       1460 non-null   int64  \n",
      " 51  BedroomAbvGr   1460 non-null   int64  \n",
      " 52  KitchenAbvGr   1460 non-null   int64  \n",
      " 53  KitchenQual    1460 non-null   object \n",
      " 54  TotRmsAbvGrd   1460 non-null   int64  \n",
      " 55  Functional     1460 non-null   object \n",
      " 56  Fireplaces     1460 non-null   int64  \n",
      " 57  FireplaceQu    770 non-null    object \n",
      " 58  GarageType     1379 non-null   object \n",
      " 59  GarageYrBlt    1379 non-null   float64\n",
      " 60  GarageFinish   1379 non-null   object \n",
      " 61  GarageCars     1460 non-null   int64  \n",
      " 62  GarageArea     1460 non-null   int64  \n",
      " 63  GarageQual     1379 non-null   object \n",
      " 64  GarageCond     1379 non-null   object \n",
      " 65  PavedDrive     1460 non-null   object \n",
      " 66  WoodDeckSF     1460 non-null   int64  \n",
      " 67  OpenPorchSF    1460 non-null   int64  \n",
      " 68  EnclosedPorch  1460 non-null   int64  \n",
      " 69  3SsnPorch      1460 non-null   int64  \n",
      " 70  ScreenPorch    1460 non-null   int64  \n",
      " 71  PoolArea       1460 non-null   int64  \n",
      " 72  PoolQC         7 non-null      object \n",
      " 73  Fence          281 non-null    object \n",
      " 74  MiscFeature    54 non-null     object \n",
      " 75  MiscVal        1460 non-null   int64  \n",
      " 76  MoSold         1460 non-null   int64  \n",
      " 77  YrSold         1460 non-null   int64  \n",
      " 78  SaleType       1460 non-null   object \n",
      " 79  SaleCondition  1460 non-null   object \n",
      " 80  SalePrice      1460 non-null   int64  \n",
      "dtypes: float64(3), int64(35), object(43)\n",
      "memory usage: 924.0+ KB\n"
     ]
    }
   ],
   "source": [
    "#Train_data\n",
    "train_data.info()"
   ]
  },
  {
   "cell_type": "code",
   "execution_count": 6,
   "metadata": {},
   "outputs": [
    {
     "data": {
      "text/html": [
       "<div>\n",
       "<style scoped>\n",
       "    .dataframe tbody tr th:only-of-type {\n",
       "        vertical-align: middle;\n",
       "    }\n",
       "\n",
       "    .dataframe tbody tr th {\n",
       "        vertical-align: top;\n",
       "    }\n",
       "\n",
       "    .dataframe thead th {\n",
       "        text-align: right;\n",
       "    }\n",
       "</style>\n",
       "<table border=\"1\" class=\"dataframe\">\n",
       "  <thead>\n",
       "    <tr style=\"text-align: right;\">\n",
       "      <th></th>\n",
       "      <th>Id</th>\n",
       "      <th>MSSubClass</th>\n",
       "      <th>MSZoning</th>\n",
       "      <th>LotFrontage</th>\n",
       "      <th>LotArea</th>\n",
       "      <th>Street</th>\n",
       "      <th>Alley</th>\n",
       "      <th>LotShape</th>\n",
       "      <th>LandContour</th>\n",
       "      <th>Utilities</th>\n",
       "      <th>...</th>\n",
       "      <th>ScreenPorch</th>\n",
       "      <th>PoolArea</th>\n",
       "      <th>PoolQC</th>\n",
       "      <th>Fence</th>\n",
       "      <th>MiscFeature</th>\n",
       "      <th>MiscVal</th>\n",
       "      <th>MoSold</th>\n",
       "      <th>YrSold</th>\n",
       "      <th>SaleType</th>\n",
       "      <th>SaleCondition</th>\n",
       "    </tr>\n",
       "  </thead>\n",
       "  <tbody>\n",
       "    <tr>\n",
       "      <th>0</th>\n",
       "      <td>1461</td>\n",
       "      <td>20</td>\n",
       "      <td>RH</td>\n",
       "      <td>80.0</td>\n",
       "      <td>11622</td>\n",
       "      <td>Pave</td>\n",
       "      <td>NaN</td>\n",
       "      <td>Reg</td>\n",
       "      <td>Lvl</td>\n",
       "      <td>AllPub</td>\n",
       "      <td>...</td>\n",
       "      <td>120</td>\n",
       "      <td>0</td>\n",
       "      <td>NaN</td>\n",
       "      <td>MnPrv</td>\n",
       "      <td>NaN</td>\n",
       "      <td>0</td>\n",
       "      <td>6</td>\n",
       "      <td>2010</td>\n",
       "      <td>WD</td>\n",
       "      <td>Normal</td>\n",
       "    </tr>\n",
       "    <tr>\n",
       "      <th>1</th>\n",
       "      <td>1462</td>\n",
       "      <td>20</td>\n",
       "      <td>RL</td>\n",
       "      <td>81.0</td>\n",
       "      <td>14267</td>\n",
       "      <td>Pave</td>\n",
       "      <td>NaN</td>\n",
       "      <td>IR1</td>\n",
       "      <td>Lvl</td>\n",
       "      <td>AllPub</td>\n",
       "      <td>...</td>\n",
       "      <td>0</td>\n",
       "      <td>0</td>\n",
       "      <td>NaN</td>\n",
       "      <td>NaN</td>\n",
       "      <td>Gar2</td>\n",
       "      <td>12500</td>\n",
       "      <td>6</td>\n",
       "      <td>2010</td>\n",
       "      <td>WD</td>\n",
       "      <td>Normal</td>\n",
       "    </tr>\n",
       "    <tr>\n",
       "      <th>2</th>\n",
       "      <td>1463</td>\n",
       "      <td>60</td>\n",
       "      <td>RL</td>\n",
       "      <td>74.0</td>\n",
       "      <td>13830</td>\n",
       "      <td>Pave</td>\n",
       "      <td>NaN</td>\n",
       "      <td>IR1</td>\n",
       "      <td>Lvl</td>\n",
       "      <td>AllPub</td>\n",
       "      <td>...</td>\n",
       "      <td>0</td>\n",
       "      <td>0</td>\n",
       "      <td>NaN</td>\n",
       "      <td>MnPrv</td>\n",
       "      <td>NaN</td>\n",
       "      <td>0</td>\n",
       "      <td>3</td>\n",
       "      <td>2010</td>\n",
       "      <td>WD</td>\n",
       "      <td>Normal</td>\n",
       "    </tr>\n",
       "    <tr>\n",
       "      <th>3</th>\n",
       "      <td>1464</td>\n",
       "      <td>60</td>\n",
       "      <td>RL</td>\n",
       "      <td>78.0</td>\n",
       "      <td>9978</td>\n",
       "      <td>Pave</td>\n",
       "      <td>NaN</td>\n",
       "      <td>IR1</td>\n",
       "      <td>Lvl</td>\n",
       "      <td>AllPub</td>\n",
       "      <td>...</td>\n",
       "      <td>0</td>\n",
       "      <td>0</td>\n",
       "      <td>NaN</td>\n",
       "      <td>NaN</td>\n",
       "      <td>NaN</td>\n",
       "      <td>0</td>\n",
       "      <td>6</td>\n",
       "      <td>2010</td>\n",
       "      <td>WD</td>\n",
       "      <td>Normal</td>\n",
       "    </tr>\n",
       "    <tr>\n",
       "      <th>4</th>\n",
       "      <td>1465</td>\n",
       "      <td>120</td>\n",
       "      <td>RL</td>\n",
       "      <td>43.0</td>\n",
       "      <td>5005</td>\n",
       "      <td>Pave</td>\n",
       "      <td>NaN</td>\n",
       "      <td>IR1</td>\n",
       "      <td>HLS</td>\n",
       "      <td>AllPub</td>\n",
       "      <td>...</td>\n",
       "      <td>144</td>\n",
       "      <td>0</td>\n",
       "      <td>NaN</td>\n",
       "      <td>NaN</td>\n",
       "      <td>NaN</td>\n",
       "      <td>0</td>\n",
       "      <td>1</td>\n",
       "      <td>2010</td>\n",
       "      <td>WD</td>\n",
       "      <td>Normal</td>\n",
       "    </tr>\n",
       "  </tbody>\n",
       "</table>\n",
       "<p>5 rows × 80 columns</p>\n",
       "</div>"
      ],
      "text/plain": [
       "     Id  MSSubClass MSZoning  LotFrontage  LotArea Street Alley LotShape  \\\n",
       "0  1461          20       RH         80.0    11622   Pave   NaN      Reg   \n",
       "1  1462          20       RL         81.0    14267   Pave   NaN      IR1   \n",
       "2  1463          60       RL         74.0    13830   Pave   NaN      IR1   \n",
       "3  1464          60       RL         78.0     9978   Pave   NaN      IR1   \n",
       "4  1465         120       RL         43.0     5005   Pave   NaN      IR1   \n",
       "\n",
       "  LandContour Utilities  ... ScreenPorch PoolArea PoolQC  Fence MiscFeature  \\\n",
       "0         Lvl    AllPub  ...         120        0    NaN  MnPrv         NaN   \n",
       "1         Lvl    AllPub  ...           0        0    NaN    NaN        Gar2   \n",
       "2         Lvl    AllPub  ...           0        0    NaN  MnPrv         NaN   \n",
       "3         Lvl    AllPub  ...           0        0    NaN    NaN         NaN   \n",
       "4         HLS    AllPub  ...         144        0    NaN    NaN         NaN   \n",
       "\n",
       "  MiscVal MoSold  YrSold  SaleType  SaleCondition  \n",
       "0       0      6    2010        WD         Normal  \n",
       "1   12500      6    2010        WD         Normal  \n",
       "2       0      3    2010        WD         Normal  \n",
       "3       0      6    2010        WD         Normal  \n",
       "4       0      1    2010        WD         Normal  \n",
       "\n",
       "[5 rows x 80 columns]"
      ]
     },
     "execution_count": 6,
     "metadata": {},
     "output_type": "execute_result"
    }
   ],
   "source": [
    "#Test_data\n",
    "test_data = pd.read_csv(\"test.csv\")\n",
    "test_data.head()"
   ]
  },
  {
   "cell_type": "code",
   "execution_count": 7,
   "metadata": {},
   "outputs": [
    {
     "name": "stdout",
     "output_type": "stream",
     "text": [
      "<class 'pandas.core.frame.DataFrame'>\n",
      "RangeIndex: 1459 entries, 0 to 1458\n",
      "Data columns (total 80 columns):\n",
      " #   Column         Non-Null Count  Dtype  \n",
      "---  ------         --------------  -----  \n",
      " 0   Id             1459 non-null   int64  \n",
      " 1   MSSubClass     1459 non-null   int64  \n",
      " 2   MSZoning       1455 non-null   object \n",
      " 3   LotFrontage    1232 non-null   float64\n",
      " 4   LotArea        1459 non-null   int64  \n",
      " 5   Street         1459 non-null   object \n",
      " 6   Alley          107 non-null    object \n",
      " 7   LotShape       1459 non-null   object \n",
      " 8   LandContour    1459 non-null   object \n",
      " 9   Utilities      1457 non-null   object \n",
      " 10  LotConfig      1459 non-null   object \n",
      " 11  LandSlope      1459 non-null   object \n",
      " 12  Neighborhood   1459 non-null   object \n",
      " 13  Condition1     1459 non-null   object \n",
      " 14  Condition2     1459 non-null   object \n",
      " 15  BldgType       1459 non-null   object \n",
      " 16  HouseStyle     1459 non-null   object \n",
      " 17  OverallQual    1459 non-null   int64  \n",
      " 18  OverallCond    1459 non-null   int64  \n",
      " 19  YearBuilt      1459 non-null   int64  \n",
      " 20  YearRemodAdd   1459 non-null   int64  \n",
      " 21  RoofStyle      1459 non-null   object \n",
      " 22  RoofMatl       1459 non-null   object \n",
      " 23  Exterior1st    1458 non-null   object \n",
      " 24  Exterior2nd    1458 non-null   object \n",
      " 25  MasVnrType     1443 non-null   object \n",
      " 26  MasVnrArea     1444 non-null   float64\n",
      " 27  ExterQual      1459 non-null   object \n",
      " 28  ExterCond      1459 non-null   object \n",
      " 29  Foundation     1459 non-null   object \n",
      " 30  BsmtQual       1415 non-null   object \n",
      " 31  BsmtCond       1414 non-null   object \n",
      " 32  BsmtExposure   1415 non-null   object \n",
      " 33  BsmtFinType1   1417 non-null   object \n",
      " 34  BsmtFinSF1     1458 non-null   float64\n",
      " 35  BsmtFinType2   1417 non-null   object \n",
      " 36  BsmtFinSF2     1458 non-null   float64\n",
      " 37  BsmtUnfSF      1458 non-null   float64\n",
      " 38  TotalBsmtSF    1458 non-null   float64\n",
      " 39  Heating        1459 non-null   object \n",
      " 40  HeatingQC      1459 non-null   object \n",
      " 41  CentralAir     1459 non-null   object \n",
      " 42  Electrical     1459 non-null   object \n",
      " 43  1stFlrSF       1459 non-null   int64  \n",
      " 44  2ndFlrSF       1459 non-null   int64  \n",
      " 45  LowQualFinSF   1459 non-null   int64  \n",
      " 46  GrLivArea      1459 non-null   int64  \n",
      " 47  BsmtFullBath   1457 non-null   float64\n",
      " 48  BsmtHalfBath   1457 non-null   float64\n",
      " 49  FullBath       1459 non-null   int64  \n",
      " 50  HalfBath       1459 non-null   int64  \n",
      " 51  BedroomAbvGr   1459 non-null   int64  \n",
      " 52  KitchenAbvGr   1459 non-null   int64  \n",
      " 53  KitchenQual    1458 non-null   object \n",
      " 54  TotRmsAbvGrd   1459 non-null   int64  \n",
      " 55  Functional     1457 non-null   object \n",
      " 56  Fireplaces     1459 non-null   int64  \n",
      " 57  FireplaceQu    729 non-null    object \n",
      " 58  GarageType     1383 non-null   object \n",
      " 59  GarageYrBlt    1381 non-null   float64\n",
      " 60  GarageFinish   1381 non-null   object \n",
      " 61  GarageCars     1458 non-null   float64\n",
      " 62  GarageArea     1458 non-null   float64\n",
      " 63  GarageQual     1381 non-null   object \n",
      " 64  GarageCond     1381 non-null   object \n",
      " 65  PavedDrive     1459 non-null   object \n",
      " 66  WoodDeckSF     1459 non-null   int64  \n",
      " 67  OpenPorchSF    1459 non-null   int64  \n",
      " 68  EnclosedPorch  1459 non-null   int64  \n",
      " 69  3SsnPorch      1459 non-null   int64  \n",
      " 70  ScreenPorch    1459 non-null   int64  \n",
      " 71  PoolArea       1459 non-null   int64  \n",
      " 72  PoolQC         3 non-null      object \n",
      " 73  Fence          290 non-null    object \n",
      " 74  MiscFeature    51 non-null     object \n",
      " 75  MiscVal        1459 non-null   int64  \n",
      " 76  MoSold         1459 non-null   int64  \n",
      " 77  YrSold         1459 non-null   int64  \n",
      " 78  SaleType       1458 non-null   object \n",
      " 79  SaleCondition  1459 non-null   object \n",
      "dtypes: float64(11), int64(26), object(43)\n",
      "memory usage: 912.0+ KB\n"
     ]
    }
   ],
   "source": [
    "test_data.info()"
   ]
  },
  {
   "cell_type": "markdown",
   "metadata": {},
   "source": [
    "### Data exploration"
   ]
  },
  {
   "cell_type": "code",
   "execution_count": 8,
   "metadata": {},
   "outputs": [],
   "source": [
    "#sns.pairplot(data = train_data)"
   ]
  },
  {
   "cell_type": "markdown",
   "metadata": {},
   "source": [
    "##### Because of the number of features on both sides, we will use principal component analysis to make a good visualization of the data."
   ]
  },
  {
   "cell_type": "code",
   "execution_count": 9,
   "metadata": {},
   "outputs": [],
   "source": [
    "from sklearn.decomposition import PCA\n",
    "from sklearn.impute import SimpleImputer\n",
    "from sklearn.preprocessing import StandardScaler, OneHotEncoder\n",
    "from sklearn.compose import ColumnTransformer\n",
    "from sklearn.pipeline import Pipeline\n",
    "from sklearn.model_selection import train_test_split\n",
    "from sklearn.compose import make_column_selector as selector"
   ]
  },
  {
   "cell_type": "code",
   "execution_count": 10,
   "metadata": {},
   "outputs": [
    {
     "data": {
      "text/plain": [
       "Index(['MSZoning', 'Street', 'Alley', 'LotShape', 'LandContour', 'Utilities',\n",
       "       'LotConfig', 'LandSlope', 'Neighborhood', 'Condition1', 'Condition2',\n",
       "       'BldgType', 'HouseStyle', 'RoofStyle', 'RoofMatl', 'Exterior1st',\n",
       "       'Exterior2nd', 'MasVnrType', 'ExterQual', 'ExterCond', 'Foundation',\n",
       "       'BsmtQual', 'BsmtCond', 'BsmtExposure', 'BsmtFinType1', 'BsmtFinType2',\n",
       "       'Heating', 'HeatingQC', 'CentralAir', 'Electrical', 'KitchenQual',\n",
       "       'Functional', 'FireplaceQu', 'GarageType', 'GarageFinish', 'GarageQual',\n",
       "       'GarageCond', 'PavedDrive', 'PoolQC', 'Fence', 'MiscFeature',\n",
       "       'SaleType', 'SaleCondition'],\n",
       "      dtype='object')"
      ]
     },
     "execution_count": 10,
     "metadata": {},
     "output_type": "execute_result"
    }
   ],
   "source": [
    "categorical_features = X_train_.select_dtypes(include=\"object\").columns\n",
    "numeric_features = X_train_.select_dtypes(exclude=\"object\").columns\n",
    "categorical_features"
   ]
  },
  {
   "cell_type": "code",
   "execution_count": 11,
   "metadata": {},
   "outputs": [
    {
     "data": {
      "text/plain": [
       "Index(['Id', 'MSSubClass', 'LotFrontage', 'LotArea', 'OverallQual',\n",
       "       'OverallCond', 'YearBuilt', 'YearRemodAdd', 'MasVnrArea', 'BsmtFinSF1',\n",
       "       'BsmtFinSF2', 'BsmtUnfSF', 'TotalBsmtSF', '1stFlrSF', '2ndFlrSF',\n",
       "       'LowQualFinSF', 'GrLivArea', 'BsmtFullBath', 'BsmtHalfBath', 'FullBath',\n",
       "       'HalfBath', 'BedroomAbvGr', 'KitchenAbvGr', 'TotRmsAbvGrd',\n",
       "       'Fireplaces', 'GarageYrBlt', 'GarageCars', 'GarageArea', 'WoodDeckSF',\n",
       "       'OpenPorchSF', 'EnclosedPorch', '3SsnPorch', 'ScreenPorch', 'PoolArea',\n",
       "       'MiscVal', 'MoSold', 'YrSold'],\n",
       "      dtype='object')"
      ]
     },
     "execution_count": 11,
     "metadata": {},
     "output_type": "execute_result"
    }
   ],
   "source": [
    "numeric_features"
   ]
  },
  {
   "cell_type": "code",
   "execution_count": 12,
   "metadata": {},
   "outputs": [],
   "source": [
    "\n",
    "categorical_features = ['MSZoning', 'Street', 'Alley', 'LotShape', 'LandContour', 'Utilities',\n",
    "       'LotConfig', 'LandSlope', 'Neighborhood', 'Condition1', 'Condition2',\n",
    "       'BldgType', 'HouseStyle', 'RoofStyle', 'RoofMatl', 'Exterior1st',\n",
    "       'Exterior2nd', 'MasVnrType', 'ExterQual', 'ExterCond', 'Foundation',\n",
    "       'BsmtQual', 'BsmtCond', 'BsmtExposure', 'BsmtFinType1', 'BsmtFinType2',\n",
    "       'Heating', 'HeatingQC', 'CentralAir', 'Electrical', 'KitchenQual',\n",
    "       'Functional', 'FireplaceQu', 'GarageType', 'GarageFinish', 'GarageQual',\n",
    "       'GarageCond', 'PavedDrive', 'PoolQC', 'Fence', 'MiscFeature',\n",
    "       'SaleType', 'SaleCondition']\n",
    "\n",
    "numeric_features =['Id', 'MSSubClass', 'LotFrontage', 'LotArea', 'OverallQual',\n",
    "       'OverallCond', 'YearBuilt', 'YearRemodAdd', 'MasVnrArea', 'BsmtFinSF1',\n",
    "       'BsmtFinSF2', 'BsmtUnfSF', 'TotalBsmtSF', '1stFlrSF', '2ndFlrSF',\n",
    "       'LowQualFinSF', 'GrLivArea', 'BsmtFullBath', 'BsmtHalfBath', 'FullBath',\n",
    "       'HalfBath', 'BedroomAbvGr', 'KitchenAbvGr', 'TotRmsAbvGrd',\n",
    "       'Fireplaces', 'GarageYrBlt', 'GarageCars', 'GarageArea', 'WoodDeckSF',\n",
    "       'OpenPorchSF', 'EnclosedPorch', '3SsnPorch', 'ScreenPorch', 'PoolArea',\n",
    "       'MiscVal', 'MoSold', 'YrSold']\n",
    "\n",
    "# Scale numeric values\n",
    "num_transformer = Pipeline(steps=[\n",
    "    ('imputer', SimpleImputer(strategy='median')),\n",
    "    ('scaler', StandardScaler())])\n",
    "\n",
    "# One-hot encode categorical values\n",
    "cat_transformer = Pipeline(steps=[\n",
    "    ('imputer', SimpleImputer(strategy='constant', fill_value='missing')),\n",
    "    ('onehot', OneHotEncoder(handle_unknown='ignore'))])\n",
    "\n",
    "preprocessor = ColumnTransformer(\n",
    "    transformers=[\n",
    "        ('num', num_transformer, selector(dtype_include='float64')),\n",
    "        ('cat', cat_transformer, selector(dtype_include='category'))])\n",
    "X_train, X_test, y_train, y_test = train_test_split(X_train_, y_, test_size=0.2,\n",
    "                                                    random_state=0)"
   ]
  },
  {
   "cell_type": "code",
   "execution_count": 13,
   "metadata": {},
   "outputs": [
    {
     "name": "stdout",
     "output_type": "stream",
     "text": [
      "[0.44006144 0.3148389  0.24509966]\n",
      "      Comp1     Comp2\n",
      "0  2.427752  0.046970\n",
      "1 -0.979238  0.003048\n",
      "2 -1.576714  1.681734\n",
      "3  0.745894 -0.541808\n",
      "4  1.756796  1.502401\n"
     ]
    }
   ],
   "source": [
    "housing_scared = preprocessor.fit_transform(X_train)\n",
    "housing_pca = PCA()\n",
    "components = housing_pca.fit_transform(housing_scared)\n",
    "#components = pd.DataFrame(components).transpose()\n",
    "var_ratio = housing_pca.explained_variance_ratio_\n",
    "print(var_ratio)\n",
    "housing_pcomp = pd.DataFrame(components)\n",
    "housing_pcomp = housing_pcomp.iloc[:,0:2]\n",
    "housing_pcomp.columns = ['Comp1', 'Comp2']\n",
    "print(housing_pcomp.head())"
   ]
  },
  {
   "cell_type": "code",
   "execution_count": 14,
   "metadata": {},
   "outputs": [
    {
     "name": "stdout",
     "output_type": "stream",
     "text": [
      "[[ 2.42775179e+00  4.69703570e-02  3.99610117e-01]\n",
      " [-9.79237511e-01  3.04804058e-03  1.24365462e-01]\n",
      " [-1.57671398e+00  1.68173370e+00  9.08328967e-01]\n",
      " ...\n",
      " [-4.14378931e-01  9.73729827e-04 -3.90616655e-01]\n",
      " [ 2.93004970e-01 -4.87780935e-01 -9.70579430e-01]\n",
      " [-1.78075906e-02 -8.45239901e-01 -6.48827478e-01]]\n",
      "      Comp1     Comp2     Comp3\n",
      "0  2.427752  0.046970  0.399610\n",
      "1 -0.979238  0.003048  0.124365\n",
      "2 -1.576714  1.681734  0.908329\n",
      "3  0.745894 -0.541808 -0.420741\n",
      "4  1.756796  1.502401 -1.035206\n"
     ]
    }
   ],
   "source": [
    "print(components)\n",
    "housing_pcomp = pd.DataFrame(components)\n",
    "housing_pcomp = housing_pcomp.iloc[:,0:3]\n",
    "housing_pcomp.columns = ['Comp1', 'Comp2', \"Comp3\"]\n",
    "print(housing_pcomp.head())"
   ]
  },
  {
   "cell_type": "code",
   "execution_count": 15,
   "metadata": {},
   "outputs": [
    {
     "data": {
      "text/plain": [
       "<seaborn.axisgrid.PairGrid at 0x1e022c9bca0>"
      ]
     },
     "execution_count": 15,
     "metadata": {},
     "output_type": "execute_result"
    },
    {
     "data": {
      "image/png": "[encoded data removed]",
      "text/plain": [
       "<Figure size 540x540 with 12 Axes>"
      ]
     },
     "metadata": {
      "needs_background": "light"
     },
     "output_type": "display_data"
    }
   ],
   "source": [
    "sns.pairplot(housing_pcomp)"
   ]
  },
  {
   "cell_type": "code",
   "execution_count": 16,
   "metadata": {},
   "outputs": [
    {
     "data": {
      "text/plain": [
       "(1168, 3)"
      ]
     },
     "execution_count": 16,
     "metadata": {},
     "output_type": "execute_result"
    }
   ],
   "source": [
    "#housing_pcomp.head()\n",
    "X_train = housing_pcomp.loc[:,:].values\n",
    "X_train.shape"
   ]
  },
  {
   "cell_type": "markdown",
   "metadata": {},
   "source": [
    "#### For the modelling we will use the following regression algorithms: \n",
    "1.k-nearest-neighbour\n",
    "\n",
    "2.Linear regression;\n",
    "\n",
    "3.Decision trees\n",
    "\n",
    "4.Random forests;"
   ]
  },
  {
   "cell_type": "code",
   "execution_count": 17,
   "metadata": {},
   "outputs": [],
   "source": [
    "from sklearn.linear_model import LinearRegression, Ridge, Lasso\n",
    "from sklearn.neighbors import KNeighborsRegressor\n",
    "from sklearn.tree import DecisionTreeRegressor\n",
    "from sklearn.ensemble import RandomForestRegressor"
   ]
  },
  {
   "cell_type": "markdown",
   "metadata": {},
   "source": [
    "#### Linear regression"
   ]
  },
  {
   "cell_type": "code",
   "execution_count": 18,
   "metadata": {},
   "outputs": [
    {
     "data": {
      "text/plain": [
       "LinearRegression()"
      ]
     },
     "execution_count": 18,
     "metadata": {},
     "output_type": "execute_result"
    }
   ],
   "source": [
    "lin_reg = LinearRegression()\n",
    "lin_reg.fit(X_train, y_train)"
   ]
  },
  {
   "cell_type": "code",
   "execution_count": 19,
   "metadata": {},
   "outputs": [
    {
     "data": {
      "text/plain": [
       "0.4398744688194869"
      ]
     },
     "execution_count": 19,
     "metadata": {},
     "output_type": "execute_result"
    }
   ],
   "source": [
    "lin_reg.score(X_train, y_train)"
   ]
  },
  {
   "cell_type": "markdown",
   "metadata": {},
   "source": [
    "#### K-nearest-neighbour"
   ]
  },
  {
   "cell_type": "code",
   "execution_count": 20,
   "metadata": {},
   "outputs": [
    {
     "data": {
      "text/plain": [
       "KNeighborsRegressor()"
      ]
     },
     "execution_count": 20,
     "metadata": {},
     "output_type": "execute_result"
    }
   ],
   "source": [
    "k_nearest =  KNeighborsRegressor()\n",
    "k_nearest.fit(X_train, y_train)"
   ]
  },
  {
   "cell_type": "code",
   "execution_count": 21,
   "metadata": {},
   "outputs": [
    {
     "data": {
      "text/plain": [
       "0.6519980645549207"
      ]
     },
     "execution_count": 21,
     "metadata": {},
     "output_type": "execute_result"
    }
   ],
   "source": [
    "k_nearest.score(X_train, y_train)"
   ]
  },
  {
   "cell_type": "markdown",
   "metadata": {},
   "source": [
    "#### Decision trees"
   ]
  },
  {
   "cell_type": "code",
   "execution_count": 22,
   "metadata": {},
   "outputs": [
    {
     "data": {
      "text/plain": [
       "DecisionTreeRegressor()"
      ]
     },
     "execution_count": 22,
     "metadata": {},
     "output_type": "execute_result"
    }
   ],
   "source": [
    "tree_reg = DecisionTreeRegressor()\n",
    "tree_reg.fit(X_train, y_train)"
   ]
  },
  {
   "cell_type": "code",
   "execution_count": 23,
   "metadata": {},
   "outputs": [
    {
     "data": {
      "text/plain": [
       "0.9528251413219404"
      ]
     },
     "execution_count": 23,
     "metadata": {},
     "output_type": "execute_result"
    }
   ],
   "source": [
    "tree_reg.score(X_train, y_train)"
   ]
  },
  {
   "cell_type": "markdown",
   "metadata": {},
   "source": [
    "#### Random Forests"
   ]
  },
  {
   "cell_type": "code",
   "execution_count": 24,
   "metadata": {},
   "outputs": [
    {
     "data": {
      "text/plain": [
       "RandomForestRegressor(max_features=2, random_state=0)"
      ]
     },
     "execution_count": 24,
     "metadata": {},
     "output_type": "execute_result"
    }
   ],
   "source": [
    "random_forest_reg = RandomForestRegressor(random_state = 0, n_estimators = 100, max_features =2)\n",
    "random_forest_reg.fit(X_train, y_train)"
   ]
  },
  {
   "cell_type": "code",
   "execution_count": 25,
   "metadata": {},
   "outputs": [
    {
     "data": {
      "text/plain": [
       "0.8906428864352384"
      ]
     },
     "execution_count": 25,
     "metadata": {},
     "output_type": "execute_result"
    }
   ],
   "source": [
    "random_forest_reg.score(X_train, y_train)"
   ]
  },
  {
   "cell_type": "markdown",
   "metadata": {},
   "source": [
    "#### Ridge Regression"
   ]
  },
  {
   "cell_type": "code",
   "execution_count": 26,
   "metadata": {},
   "outputs": [
    {
     "data": {
      "text/plain": [
       "Ridge(alpha=0.5)"
      ]
     },
     "execution_count": 26,
     "metadata": {},
     "output_type": "execute_result"
    }
   ],
   "source": [
    "ridge_reg = Ridge(alpha = 0.5)\n",
    "ridge_reg.fit(X_train, y_train)"
   ]
  },
  {
   "cell_type": "code",
   "execution_count": 27,
   "metadata": {},
   "outputs": [
    {
     "data": {
      "text/plain": [
       "0.43987442231503915"
      ]
     },
     "execution_count": 27,
     "metadata": {},
     "output_type": "execute_result"
    }
   ],
   "source": [
    "ridge_reg.score(X_train, y_train)"
   ]
  },
  {
   "cell_type": "markdown",
   "metadata": {},
   "source": [
    "#### Gradient Boosting Regressor "
   ]
  },
  {
   "cell_type": "code",
   "execution_count": 28,
   "metadata": {},
   "outputs": [
    {
     "data": {
      "text/plain": [
       "GradientBoostingRegressor(random_state=0)"
      ]
     },
     "execution_count": 28,
     "metadata": {},
     "output_type": "execute_result"
    }
   ],
   "source": [
    "from sklearn.ensemble import GradientBoostingRegressor\n",
    "reg = GradientBoostingRegressor(random_state=0)\n",
    "reg.fit(X_train, y_train)"
   ]
  },
  {
   "cell_type": "code",
   "execution_count": 29,
   "metadata": {},
   "outputs": [
    {
     "data": {
      "text/plain": [
       "0.71903072322718"
      ]
     },
     "execution_count": 29,
     "metadata": {},
     "output_type": "execute_result"
    }
   ],
   "source": [
    "reg.score(X_train, y_train)"
   ]
  },
  {
   "cell_type": "markdown",
   "metadata": {},
   "source": [
    "####  Let's improve evaluation through cross-validation."
   ]
  },
  {
   "cell_type": "code",
   "execution_count": 30,
   "metadata": {},
   "outputs": [],
   "source": [
    "from sklearn.model_selection import cross_val_score"
   ]
  },
  {
   "cell_type": "markdown",
   "metadata": {},
   "source": [
    "#### Cross-validation for linear regression"
   ]
  },
  {
   "cell_type": "code",
   "execution_count": 31,
   "metadata": {},
   "outputs": [],
   "source": [
    "scores = cross_val_score(lin_reg, X_train, y_train, cv=5)"
   ]
  },
  {
   "cell_type": "code",
   "execution_count": 32,
   "metadata": {},
   "outputs": [
    {
     "data": {
      "text/plain": [
       "0.41888832707181756"
      ]
     },
     "execution_count": 32,
     "metadata": {},
     "output_type": "execute_result"
    }
   ],
   "source": [
    "scores.mean()"
   ]
  },
  {
   "cell_type": "markdown",
   "metadata": {},
   "source": [
    "#### Cross-validation for K-nearest-neighbour"
   ]
  },
  {
   "cell_type": "code",
   "execution_count": 33,
   "metadata": {},
   "outputs": [],
   "source": [
    "scores = cross_val_score(k_nearest, X_train, y_train, cv=5)"
   ]
  },
  {
   "cell_type": "code",
   "execution_count": 34,
   "metadata": {},
   "outputs": [
    {
     "data": {
      "text/plain": [
       "0.45114484702488167"
      ]
     },
     "execution_count": 34,
     "metadata": {},
     "output_type": "execute_result"
    }
   ],
   "source": [
    "scores.mean()"
   ]
  },
  {
   "cell_type": "markdown",
   "metadata": {},
   "source": [
    "#### Cross-validation for decision trees"
   ]
  },
  {
   "cell_type": "code",
   "execution_count": 35,
   "metadata": {},
   "outputs": [],
   "source": [
    "scores = cross_val_score(tree_reg, X_train, y_train, scoring = \"r2\", cv=5)"
   ]
  },
  {
   "cell_type": "code",
   "execution_count": 36,
   "metadata": {},
   "outputs": [
    {
     "data": {
      "text/plain": [
       "0.02727989000612847"
      ]
     },
     "execution_count": 36,
     "metadata": {},
     "output_type": "execute_result"
    }
   ],
   "source": [
    "scores.mean()"
   ]
  },
  {
   "cell_type": "markdown",
   "metadata": {},
   "source": [
    "#### Cross-validation for random forest"
   ]
  },
  {
   "cell_type": "code",
   "execution_count": 37,
   "metadata": {},
   "outputs": [
    {
     "data": {
      "text/plain": [
       "0.4028629959235281"
      ]
     },
     "execution_count": 37,
     "metadata": {},
     "output_type": "execute_result"
    }
   ],
   "source": [
    "scores = cross_val_score(random_forest_reg, X_train, y_train, cv=5)\n",
    "scores.mean()"
   ]
  },
  {
   "cell_type": "markdown",
   "metadata": {},
   "source": [
    "#### Cross-validation with gradient boosting regressor"
   ]
  },
  {
   "cell_type": "code",
   "execution_count": 38,
   "metadata": {},
   "outputs": [
    {
     "data": {
      "text/plain": [
       "0.4247067867721045"
      ]
     },
     "execution_count": 38,
     "metadata": {},
     "output_type": "execute_result"
    }
   ],
   "source": [
    "scores = cross_val_score(reg, X_train, y_train, cv=5)\n",
    "scores.mean()"
   ]
  },
  {
   "cell_type": "markdown",
   "metadata": {},
   "source": [
    "#### Let's use grid search to set the parameters of our nearest neighbour algorithm"
   ]
  },
  {
   "cell_type": "code",
   "execution_count": 39,
   "metadata": {},
   "outputs": [
    {
     "data": {
      "text/plain": [
       "GridSearchCV(cv=5, estimator=KNeighborsRegressor(),\n",
       "             param_grid=[{'n_neighbors': [1, 2, 3, 4, 5, 6, 7, 8, 9, 10, 11, 12,\n",
       "                                          13, 14, 15, 16, 17, 18, 19, 20, 21,\n",
       "                                          22, 23, 24, 25, 26, 27, 28, 29, 30, ...]}],\n",
       "             scoring='r2')"
      ]
     },
     "execution_count": 39,
     "metadata": {},
     "output_type": "execute_result"
    }
   ],
   "source": [
    "from sklearn.model_selection import GridSearchCV\n",
    "param_grid = [\n",
    "{'n_neighbors': list(range(1,101))}\n",
    "]\n",
    "\n",
    "k_nearest =  KNeighborsRegressor()\n",
    "grid_search = GridSearchCV(k_nearest, param_grid, cv=5,\n",
    "scoring='r2')\n",
    "grid_search.fit(X_train, y_train)"
   ]
  },
  {
   "cell_type": "code",
   "execution_count": 40,
   "metadata": {},
   "outputs": [
    {
     "data": {
      "text/plain": [
       "{'n_neighbors': 21}"
      ]
     },
     "execution_count": 40,
     "metadata": {},
     "output_type": "execute_result"
    }
   ],
   "source": [
    "grid_search.best_params_"
   ]
  },
  {
   "cell_type": "code",
   "execution_count": 41,
   "metadata": {},
   "outputs": [
    {
     "data": {
      "text/plain": [
       "KNeighborsRegressor(n_neighbors=21)"
      ]
     },
     "execution_count": 41,
     "metadata": {},
     "output_type": "execute_result"
    }
   ],
   "source": [
    "grid_search.best_estimator_"
   ]
  },
  {
   "cell_type": "markdown",
   "metadata": {},
   "source": [
    "### Evaluation on the test set "
   ]
  },
  {
   "cell_type": "code",
   "execution_count": 42,
   "metadata": {},
   "outputs": [
    {
     "name": "stdout",
     "output_type": "stream",
     "text": [
      "[0.44006144 0.3148389  0.24509966]\n",
      "[[-4.67822406e-01  1.04657122e-01 -3.27124062e-01]\n",
      " [-1.10149779e+00  1.22464519e+00  4.10094157e-01]\n",
      " [-4.96464789e-01  5.31714650e-01  9.61485636e-01]\n",
      " [ 9.74323226e-01  4.69453818e-01  6.42368211e-01]\n",
      " [-1.74414237e-01 -2.01470874e+00  1.94654785e+00]\n",
      " [-1.12809847e+00  1.27779258e-01  2.77803892e-01]\n",
      " [ 2.15029550e-01 -1.43527391e+00 -5.42173622e-01]\n",
      " [-7.67334835e-01 -7.63534911e-01 -1.78110540e-01]\n",
      " [ 1.96300826e+00  3.42801617e+00 -2.06778112e+00]\n",
      " [ 2.51672218e-01 -4.98210429e-01 -1.06874314e+00]\n",
      " [-1.60421541e-01 -1.44877874e+00 -8.28903608e-01]\n",
      " [ 1.59623176e-01 -1.05137993e-02  3.08684215e-01]\n",
      " [ 1.39168597e+00 -5.92240555e-01  4.46409926e-01]\n",
      " [-6.87290685e-01  2.29647628e-01 -1.09312868e-01]\n",
      " [-5.69610859e-01  1.75534064e-01  1.31314796e+00]\n",
      " [-8.93418273e-01  5.20168558e-01  1.19964605e-01]\n",
      " [ 7.51456438e-01  1.32132778e+00 -1.26447790e+00]\n",
      " [-5.57464800e-01 -3.50357075e-01 -3.10376755e-01]\n",
      " [-6.91113841e-01  2.91753948e-01 -9.69664176e-02]\n",
      " [-2.35518504e+00  5.66931407e-01  1.45856604e+00]\n",
      " [ 1.94405587e-01 -3.32420716e-01 -9.92904094e-01]\n",
      " [ 8.72680671e-01 -5.95470325e-01 -3.87197724e-01]\n",
      " [ 9.49228243e-02  2.04814869e+00 -5.62538684e-01]\n",
      " [-8.03773908e-02 -4.55596201e-01 -7.60105936e-01]\n",
      " [ 6.46420142e-01  2.59284509e-01  6.94722196e-01]\n",
      " [-6.17006196e-01  3.29260868e+00  2.63745199e-01]\n",
      " [ 9.46146527e-01 -5.39364791e-01 -9.53632217e-02]\n",
      " [-1.37595794e+00 -1.96175064e+00  2.05461484e-01]\n",
      " [ 1.93224788e+00 -5.38445144e-02  8.41536060e-04]\n",
      " [-9.31649832e-01  1.14123176e+00  2.43429106e-01]\n",
      " [ 4.33861260e-02  8.56588690e-01  2.33787397e-02]\n",
      " [ 6.08103539e-01 -1.00473650e-01 -3.14303685e-01]\n",
      " [-3.93391928e-01  4.22915134e-02 -4.03843276e-01]\n",
      " [ 1.75334881e+00  3.28464854e-03  2.46634411e-01]\n",
      " [ 2.28678719e+00 -3.93902044e-01  5.54697018e-01]\n",
      " [-1.98653100e-01 -8.27715542e-01 -7.05439107e-01]\n",
      " [ 9.91552479e-01 -1.03243260e+00  1.67954068e-02]\n",
      " [-3.22784606e-01  4.20322246e-02 -4.68216041e-01]\n",
      " [ 3.52784079e-01 -2.29515191e-01 -1.12252979e+00]\n",
      " [ 1.94240118e+00  6.99558808e-01  2.63293897e-01]\n",
      " [-7.73271340e-01  1.24413728e+00  1.13803405e-01]\n",
      " [-9.79237511e-01  3.04804058e-03  1.24365462e-01]\n",
      " [ 1.92534363e-01 -6.84270099e-01 -1.04140972e+00]\n",
      " [ 1.20351181e+00  1.04769425e+00 -1.40197660e+00]\n",
      " [ 4.09136691e+00  3.73604949e+00 -1.86777322e-01]\n",
      " [ 5.10718822e-01 -5.04975553e-01 -6.78840694e-01]\n",
      " [-1.18528439e+00 -4.72236115e-01  2.44285227e-01]\n",
      " [-3.17090226e-01  3.31775288e-01 -4.32056862e-01]\n",
      " [-3.43411509e-02  3.06630810e-02 -4.60510929e-02]\n",
      " [-1.37620006e+00  3.35664620e-01  5.33534607e-01]\n",
      " [ 3.52726774e+00  8.34473676e-01  1.09232635e+00]\n",
      " [ 1.11279882e-01  6.29035926e-01  4.73853040e-01]\n",
      " [ 1.13551320e+00  3.10394824e-01  9.28049674e-01]\n",
      " [-3.68581768e-01  2.15029772e-02 -4.29416348e-01]\n",
      " [ 4.12337730e-01 -2.69830226e-01 -1.00389164e-01]\n",
      " [-4.71645562e-01  1.66763442e-01 -3.14777612e-01]\n",
      " [-2.26936580e+00  1.08405192e+00  1.45416518e+00]\n",
      " [ 3.39443388e-01 -3.95045614e-01 -1.13399607e+00]\n",
      " [-5.34687281e-01  8.08615177e-01 -1.65740039e-01]\n",
      " [-1.53644978e+00 -1.19090288e-01  6.14654679e-01]\n",
      " [ 3.85512915e-02  7.18836810e-01  4.63378804e-01]\n",
      " [-4.35301677e-01  5.54532379e-01  6.03022005e-01]\n",
      " [-6.16269467e-01  5.65971975e-01  3.51611400e-01]\n",
      " [-4.24718024e-01  2.83837819e-01  3.01001652e-01]\n",
      " [ 8.67671018e-01 -6.04075807e-01  2.80359844e-01]\n",
      " [-8.93418273e-01  5.20168558e-01  1.19964605e-01]\n",
      " [-9.18228432e-01  5.40957094e-01  1.45537677e-01]\n",
      " [ 6.69541064e-01 -2.37041391e-02 -1.38178120e+00]\n",
      " [-5.55512868e-01 -7.64312778e-01 -3.71228834e-01]\n",
      " [ 2.26862058e-01 -4.77421892e-01 -1.04317007e+00]\n",
      " [ 2.93646225e-01 -4.15574861e-01 -1.09519638e+00]\n",
      " [-1.75974121e+00  6.80065377e-02  8.44812323e-01]\n",
      " [-8.34280418e-01  7.06228229e-01  9.26311906e-02]\n",
      " [ 1.37219664e-01 -9.32436090e-01 -1.02642276e+00]\n",
      " [-9.39215436e-01  4.99639310e-01  1.58764298e-01]\n",
      " [ 1.29097080e+00 -8.00899248e-01 -1.40183200e-02]\n",
      " [-7.90354479e-01  3.74908093e-01  5.32586868e-03]\n",
      " [-5.44043400e-01 -9.50631738e-01 -4.08268184e-01]\n",
      " [ 3.34106821e+00  1.88343936e+00 -1.40656905e-01]\n",
      " [-8.08463072e-03  9.32261305e-01  1.78097596e-01]\n",
      " [ 1.28774482e-01 -4.74736034e-01  3.89956532e-01]\n",
      " [-6.26773668e-02 -9.50369795e-03 -4.08900976e-02]\n",
      " [-3.47594765e-01  6.28207608e-02 -4.42642970e-01]\n",
      " [-1.98653100e-01 -8.27715542e-01 -7.05439107e-01]\n",
      " [ 1.07952147e+00  2.87243005e+00 -1.34205323e+00]\n",
      " [ 1.42914044e-01 -6.42693027e-01 -9.90263580e-01]\n",
      " [-8.60717706e-02 -7.45339264e-01 -7.96265114e-01]\n",
      " [ 1.32722614e-02 -1.77131191e+00 -3.31659754e-01]\n",
      " [ 6.69541064e-01 -2.37041391e-02 -1.38178120e+00]\n",
      " [-2.67601254e-01  6.28276123e-01  5.72688194e-01]\n",
      " [ 5.50052588e-01 -3.98919700e-01 -4.60725010e-01]\n",
      " [-2.05949871e-03  1.48083040e-02  1.31240439e-01]\n",
      " [ 2.83807827e-02 -3.11113602e-01 -8.38585493e-01]\n",
      " [ 7.47713990e-01  6.17629018e-01 -1.36148915e+00]\n",
      " [ 2.54882289e-01 -1.26309674e+00 -6.43473865e-01]\n",
      " [-6.09582763e-02  2.94478668e-01  9.11428389e-01]\n",
      " [ 6.73191301e-01 -5.19622401e-01 -6.42393131e-01]\n",
      " [-1.02698661e+00  3.96474496e-01  2.24017234e-01]\n",
      " [ 2.45576267e-02 -2.49007283e-01 -8.26239043e-01]\n",
      " [-1.94105864e+00  3.37738931e-01  1.04851672e+00]\n",
      " [ 4.65365409e-01 -1.47138912e-01 -1.21335580e+00]\n",
      " [ 1.95923016e+00 -9.71761985e-01  1.03936959e+00]\n",
      " [-7.43176897e-01  5.05914916e-02  6.47446504e-01]\n",
      " [ 2.22164806e-01  2.30416423e-01  1.06963900e-01]\n",
      " [ 8.75993456e-02 -8.90859017e-01 -9.75276615e-01]\n",
      " [ 2.06405250e+00  1.75712262e+00 -2.78758605e-01]\n",
      " [ 3.14552520e-01  3.91548008e-01 -9.99065294e-01]\n",
      " [-1.83417169e+00  1.30372146e-01  9.21531538e-01]\n",
      " [ 1.92534363e-01 -6.84270099e-01 -1.04140972e+00]\n",
      " [-5.57464800e-01 -3.50357075e-01 -3.10376755e-01]\n",
      " [-7.04293116e-01 -1.40538665e+00 -3.27148112e-01]\n",
      " [-2.77536270e-01 -4.53420905e-02  9.11012027e-01]\n",
      " [ 3.58937727e-01  4.27846752e-02  7.91437125e-01]\n",
      " [-1.44493616e+00  6.87773292e-01  6.46413001e-01]\n",
      " [ 2.15127460e-01 -1.92453190e+00  3.87980607e-01]\n",
      " [-1.38742740e+00 -1.77543168e+00  2.42500834e-01]\n",
      " [ 4.32840713e+00  3.96769585e-01  2.22537848e+00]\n",
      " [-6.39622299e-01  6.02026259e-01 -9.96069319e-02]\n",
      " [ 2.12567678e+00  1.19953881e+00  1.76476252e+00]\n",
      " [ 4.27214558e-01 -2.91880799e-01 -1.19924901e+00]\n",
      " [-5.35510414e-02 -2.95464006e-01  1.33880953e-01]\n",
      " [-4.08442427e-01 -2.00669846e+00 -6.82530600e-01]\n",
      " [-5.56091764e-01  3.21315923e-01  2.09623144e-01]\n",
      " [ 6.15221810e-01  5.33550725e-02  1.23110952e+00]\n",
      " [ 9.88957393e-01 -1.27724625e-01 -3.21912576e-01]\n",
      " [ 1.96315291e+00 -8.50770124e-01  5.45566763e-01]\n",
      " [ 2.28110979e+00  8.28216500e-01 -3.77737843e-01]\n",
      " [ 1.12409505e-01 -9.11647554e-01 -1.00084969e+00]\n",
      " [-3.87455423e-01 -1.96538068e+00 -6.95757221e-01]\n",
      " [ 8.79469874e-01  1.43791064e+00 -1.70378790e-01]\n",
      " [ 1.00180538e+00 -9.59310921e-02 -2.02208610e-01]\n",
      " [ 4.06227554e-01 -3.33198583e-01 -1.18602239e+00]\n",
      " [-4.73516786e-01 -1.85085941e-01 -3.63283241e-01]\n",
      " [ 8.20166483e-01 -1.98479823e-01  7.69609569e-01]\n",
      " [-5.00278878e-01  2.49658298e-01 -2.76858090e-01]\n",
      " [ 2.91694293e-01 -1.61915862e-03 -1.03434430e+00]\n",
      " [-1.52506102e+00  4.60395838e-01  6.86973037e-01]\n",
      " [ 4.65341039e-01 -6.42481672e-01 -4.78000550e-01]\n",
      " [-1.38758882e+00 -2.43821506e-01  4.61216250e-01]\n",
      " [-1.29997710e-01 -4.14019128e-01 -7.08959792e-01]\n",
      " [-8.57219354e-01  1.07886615e+00  1.66709891e-01]\n",
      " [-1.43107243e-01 -1.96984380e+00 -3.21986030e-01]\n",
      " [-3.37518367e-01  4.56112487e-01  9.77521123e-01]\n",
      " [-5.86098115e-01 -2.67462219e-01 -2.72457233e-01]\n",
      " [-8.05566395e-01 -1.42471713e-01 -5.46460389e-02]\n",
      " [ 3.90316362e-01 -3.33992793e-01 -3.35764283e-01]\n",
      " [ 4.10050710e-01 -3.95304903e-01 -1.19836884e+00]\n",
      " [-6.03395210e-01  5.30149926e-01  2.60137126e-01]\n",
      " [ 1.62252412e+00 -1.08664820e+00  6.73015760e-01]\n",
      " [ 1.02811261e-01 -3.73479211e-01 -9.15304708e-01]\n",
      " [ 9.09355844e-01  1.45764567e+00  6.41079622e-01]\n",
      " [ 3.08171322e+00 -1.18747051e+00  1.97100590e+00]\n",
      " [ 1.43841388e+00  1.62926649e+00 -1.84647329e+00]\n",
      " [-4.10555776e-01 -6.11325900e-02 -4.02963105e-01]\n",
      " [-1.70833038e+00  1.14408393e+00  9.51529517e-01]\n",
      " [ 5.13592658e-01  3.90894701e-01  1.92701497e-01]\n",
      " [ 1.22808143e+00 -1.34649501e+00  1.16699401e+00]\n",
      " [-1.55946942e+00  1.01935272e+00  7.98091087e-01]\n",
      " [-3.47594765e-01  6.28207608e-02 -4.42642970e-01]\n",
      " [ 5.78633364e-01 -3.46583393e-01 -7.62880517e-02]\n",
      " [-9.94931705e-02 -1.45064601e-01 -6.98373685e-01]\n",
      " [-2.03355835e-01  3.33683279e-01  8.07951441e-01]\n",
      " [ 2.17344523e-01 -7.05058635e-01 -1.06698279e+00]\n",
      " [-1.92819238e-01 -2.55340625e-01  5.65030985e-01]\n",
      " [ 6.21968688e-01 -3.22382424e-01 -9.85509915e-01]\n",
      " [-3.27897123e-02  6.82587515e-01 -6.41042292e-01]\n",
      " [ 9.89881051e-02 -3.11372891e-01 -9.02958258e-01]\n",
      " [ 3.64737332e+00 -4.48761966e-01  2.71779608e+00]\n",
      " [ 5.78294693e-01 -9.95411608e-01 -3.47686210e-01]\n",
      " [ 1.52431580e-01 -4.15056284e-01 -9.66450851e-01]\n",
      " [ 2.46564521e+00  1.64962207e+00  1.98241523e-01]\n",
      " [ 1.54914205e-01 -3.27830807e-02  5.60496617e-02]\n",
      " [ 3.80090959e-02 -2.04281421e+00 -8.69546882e-02]\n",
      " [-2.20333897e-01 -8.06008236e-01 -1.45239055e-01]\n",
      " [-3.38238646e-01  1.82206768e+00 -2.00114825e-01]\n",
      " [-2.44758329e-01  1.81937858e-01  9.26322771e-02]\n",
      " [-6.53630514e-01  4.31905343e-01  2.24721980e-01]\n",
      " [-5.19054920e-02  9.93119114e-01 -5.79310042e-01]\n",
      " [-2.13189360e+00  3.79834581e-01  1.22840840e+00]\n",
      " [-2.27367124e-01  2.09843995e-02 -5.58161877e-01]\n",
      " [-5.94710956e-02  3.51526668e-01 -6.63974849e-01]\n",
      " [ 5.76546285e-01  1.53136690e+00 -7.89879703e-03]\n",
      " [-7.04293116e-01 -1.40538665e+00 -3.27148112e-01]\n",
      " [ 1.69445720e+00  5.01750682e-01 -7.48044827e-01]\n",
      " [-8.15164639e-01  3.95696629e-01  3.08989402e-02]\n",
      " [ 1.14046483e+00  9.07791974e-01  1.04610517e+00]\n",
      " [-7.10801670e-01 -2.20114772e+00  5.13044175e-01]\n",
      " [ 5.05024443e-01 -7.94718616e-01 -7.14999873e-01]\n",
      " [ 2.30072129e-01 -1.24230821e+00 -6.17900793e-01]\n",
      " [ 2.01096559e-01 -1.91763940e+00  3.60541642e-02]\n",
      " [-3.64514517e-02 -7.86916336e-01 -8.47411258e-01]\n",
      " [ 5.98167159e-01  2.66140960e+00 -3.06662799e-01]\n",
      " [ 8.89993069e-01 -5.53577040e-01 -4.04457158e-01]\n",
      " [-1.49032781e-01 -8.69292615e-01 -7.56585250e-01]\n",
      " [ 2.87790428e-01  8.26292247e-01 -9.12640143e-01]\n",
      " [-9.16115084e-01 -1.40460878e+00 -1.34029818e-01]\n",
      " [-1.59924937e+00 -1.77465381e+00  4.35619128e-01]\n",
      " [-7.42042938e-01  2.56534456e-01  4.14591866e-01]\n",
      " [ 3.99157307e-01  2.33216130e-01  1.27453381e+00]\n",
      " [-1.29826258e-01 -1.88787788e+00  1.88670392e+00]\n",
      " [-8.68608113e-01  4.99380022e-01  9.43915335e-02]\n",
      " [-7.53913435e-01 -1.36380957e+00 -2.76001969e-01]\n",
      " [-6.49139834e-01  3.74389515e-01 -1.23419661e-01]\n",
      " [-5.77183522e-02 -4.28625395e-01  2.38085827e-01]\n",
      " [-3.68581768e-01  2.15029772e-02 -4.29416348e-01]\n",
      " [ 1.19728581e+00  9.26594715e-01  1.01940392e+00]\n",
      " [ 1.05183053e+00  5.43238142e-01  1.52263246e+00]\n",
      " [ 9.02051252e-01 -5.32458763e-01 -1.43756979e-01]\n",
      " [ 8.31321649e-01 -5.38284238e-01 -2.74183191e-01]\n",
      " [-8.72269853e-01 -9.70123830e-01 -1.11977432e-01]\n",
      " [ 1.88711207e-01 -6.22163779e-01 -1.02906327e+00]\n",
      " [-4.35204518e-01 -1.57195422e+00 -5.96105449e-01]\n",
      " [-3.58983525e-01 -5.16665365e-01 -5.14961327e-01]\n",
      " [-7.67334835e-01 -7.63534911e-01 -1.78110540e-01]\n",
      " [-3.39948453e-01 -6.13918789e-02 -4.67335870e-01]\n",
      " [-3.00693496e-01  2.47510719e-01  3.84314534e-01]\n",
      " [ 6.85582672e-01  6.03884597e-01  2.52961789e-01]\n",
      " [ 8.18710839e-01  4.58610605e-01 -1.65209633e-01]\n",
      " [ 6.16097589e-01  7.99792532e-02 -1.31828860e+00]\n",
      " [-1.37595794e+00 -1.96175064e+00  2.05461484e-01]\n",
      " [ 4.83014794e-01 -1.28773587e-01  4.52393528e-01]\n",
      " [ 1.22255860e+00  2.23307533e+00  4.84173722e-02]\n",
      " [-1.29794643e+00  2.11192692e-01  4.44468943e-01]\n",
      " [ 5.28084294e-01  2.27422970e+00 -9.24962543e-01]\n",
      " [ 2.63638190e-01 -1.67670918e+00 -1.65666151e-01]\n",
      " [ 1.63563913e+00  1.56159597e-02 -7.72145849e-02]\n",
      " [ 1.07593496e+00  1.09068162e+00 -1.29452332e+00]\n",
      " [ 7.36002397e-01  3.10136323e+00 -9.96376679e-01]\n",
      " [-8.99112653e-01  2.30425495e-01  8.38054262e-02]\n",
      " [ 4.82345370e-01  4.29594262e-01  2.64011706e-01]\n",
      " [ 1.36479568e-01  4.49488266e-01  1.70893225e+00]\n",
      " [-7.55946076e-01 -1.84048785e-01 -1.05792182e-01]\n",
      " [-3.47594765e-01  6.28207608e-02 -4.42642970e-01]\n",
      " [ 2.53543442e-01 -1.46361046e-01 -1.02023751e+00]\n",
      " [ 3.57062323e-03 -2.90325066e-01 -8.13012422e-01]\n",
      " [-1.75974121e+00  6.80065377e-02  8.44812323e-01]\n",
      " [-5.57464800e-01 -3.50357075e-01 -3.10376755e-01]\n",
      " [-5.23298521e-01  1.38810130e+00 -9.34216818e-02]\n",
      " [-4.52529783e-01 -1.43768157e-01 -3.76509862e-01]\n",
      " [-7.29736611e-01  3.99220095e-01  1.77456405e-01]\n",
      " [-1.53644978e+00 -1.19090288e-01  6.14654679e-01]\n",
      " [ 1.27621420e-01 -3.94267747e-01 -9.40877779e-01]\n",
      " [ 6.47247183e-01 -7.04776829e-01 -3.83965422e-01]\n",
      " [ 7.51540946e-01 -5.70393984e-01 -3.25481579e-01]\n",
      " [-2.12155208e-01  5.38364206e-01 -4.98189970e-01]\n",
      " [-1.70100493e-01 -1.44805313e-01 -6.34000921e-01]\n",
      " [-2.44530971e-01 -8.24397039e-02 -5.57281706e-01]\n",
      " [ 1.46737200e-01 -7.04799347e-01 -1.00261003e+00]\n",
      " [-5.59707728e-02  3.35264069e+00 -2.38890468e-01]\n",
      " [ 1.06634417e-01 -4.35585531e-01 -9.27651158e-01]\n",
      " [-5.27633268e-01  3.67567466e-01  3.99261125e-01]\n",
      " [ 6.16097589e-01  7.99792532e-02 -1.31828860e+00]\n",
      " [-6.41412814e-01 -5.15628210e-01 -2.57470269e-01]\n",
      " [ 4.02685055e+00 -1.25708377e+00  3.07762089e+00]\n",
      " [ 7.03255674e-01 -5.19635928e-01 -9.45925817e-01]\n",
      " [ 2.72659221e-01 -4.56892645e-01 -1.08196976e+00]\n",
      " [-9.77204870e-01 -1.17671275e+00 -4.58443246e-02]\n",
      " [ 4.26035443e-01 -1.37911145e+00 -3.83117462e-01]\n",
      " [ 1.98093554e+00 -1.73344105e+00  1.67960191e+00]\n",
      " [ 8.39672827e+00  9.04207476e+00 -1.18821184e+00]\n",
      " [ 8.58826705e-01 -2.51599708e+00  1.49328296e+00]\n",
      " [-1.52506102e+00  4.60395838e-01  6.86973037e-01]\n",
      " [ 4.94001376e-01  8.44236499e-01  1.40218337e+00]\n",
      " [-5.57464800e-01 -3.50357075e-01 -3.10376755e-01]\n",
      " [ 4.26899654e+00  8.29114309e-01  1.55011517e+00]\n",
      " [ 1.30680128e+00 -3.42999523e-02 -7.54918717e-01]\n",
      " [-4.16330864e-01  4.14929433e-01 -3.29764576e-01]\n",
      " [-2.02126421e+00  8.76166562e-01  1.19843447e+00]\n",
      " [-1.07863957e+00  1.61781236e+00  4.45373164e-01]\n",
      " [ 5.10549487e-01 -8.29389661e-01 -8.14539773e-01]\n",
      " [-1.89721341e+00  7.72223881e-01  1.07056911e+00]\n",
      " [-2.01931228e+00  4.62210860e-01  1.13758239e+00]\n",
      " [-1.33617799e+00  8.32255890e-01  5.67933443e-01]\n",
      " [-8.09308842e-01 -8.46170479e-01 -1.51657297e-01]\n",
      " [ 1.14119312e-01  9.71812000e-01 -7.33628642e-01]\n",
      " [ 3.98581242e-01 -2.08985943e-01 -1.16132949e+00]\n",
      " [ 1.59663096e+00  3.26378219e+00 -1.75738358e+00]\n",
      " [-1.21025597e+00  1.08016259e+00  4.88573714e-01]\n",
      " [-3.35963881e-01 -1.65510837e+00 -6.98397735e-01]\n",
      " [-1.85312408e-01 -6.62185119e-01 -6.93972828e-01]\n",
      " [-4.46835403e-01  1.45974906e-01 -3.40350683e-01]\n",
      " [ 1.75341644e+00  1.94287343e+00 -1.59617476e+00]\n",
      " [-1.28655767e+00  7.90678818e-01  5.16787300e-01]\n",
      " [-9.79237511e-01  3.04804058e-03  1.24365462e-01]\n",
      " [ 1.96357519e-01 -7.46376419e-01 -1.05375617e+00]\n",
      " [-4.81843488e-01  1.40461556e+00  1.99541002e-01]\n",
      " [-5.17064701e-01 -1.97794704e+00  1.51769347e+00]\n",
      " [-7.97758666e-01 -1.79829452e+00 -2.98054355e-01]\n",
      " [ 1.84136623e+00  7.90975167e-01 -8.40631178e-01]\n",
      " [-2.12050485e+00  9.59320707e-01  1.30072675e+00]\n",
      " [-7.67334835e-01 -7.63534911e-01 -1.78110540e-01]\n",
      " [-1.64911182e+00  5.64338519e-01  8.14838395e-01]]\n",
      "      Comp1     Comp2     Comp3\n",
      "0 -0.467822  0.104657 -0.327124\n",
      "1 -1.101498  1.224645  0.410094\n",
      "2 -0.496465  0.531715  0.961486\n",
      "3  0.974323  0.469454  0.642368\n",
      "4 -0.174414 -2.014709  1.946548\n"
     ]
    }
   ],
   "source": [
    "housing_scared_test = preprocessor.transform(X_test)\n",
    "components = housing_pca.transform(housing_scared_test)\n",
    "var_ratio = housing_pca.explained_variance_ratio_\n",
    "print(var_ratio)\n",
    "print(components)\n",
    "housing_pcomp = pd.DataFrame(components)\n",
    "housing_pcomp = housing_pcomp.iloc[:,0:3]\n",
    "housing_pcomp.columns = ['Comp1', 'Comp2', \"Comp3\"]\n",
    "print(housing_pcomp.head())\n",
    "\n",
    "final_model = grid_search.best_estimator_\n"
   ]
  },
  {
   "cell_type": "code",
   "execution_count": 43,
   "metadata": {},
   "outputs": [
    {
     "name": "stdout",
     "output_type": "stream",
     "text": [
      "Test score : 0.43494147319735565\n"
     ]
    }
   ],
   "source": [
    "print(\"Test score : {}\".format(final_model.score(housing_pcomp, y_test)))"
   ]
  },
  {
   "cell_type": "code",
   "execution_count": 44,
   "metadata": {},
   "outputs": [
    {
     "name": "stdout",
     "output_type": "stream",
     "text": [
      "[0.44006144 0.3148389  0.24509966]\n",
      "[[-0.5843076   0.85019225 -0.1145939 ]\n",
      " [-0.2408936   0.89172139  0.38444251]\n",
      " [ 0.18293612 -0.14610176 -0.95586474]\n",
      " ...\n",
      " [ 1.06984252  4.17640347 -1.14715054]\n",
      " [-0.51549079 -0.26772151 -0.33683   ]\n",
      " [ 0.42910847 -0.11704483 -0.47448803]]\n",
      "      Comp1     Comp2     Comp3\n",
      "0 -0.584308  0.850192 -0.114594\n",
      "1 -0.240894  0.891721  0.384443\n",
      "2  0.182936 -0.146102 -0.955865\n",
      "3  0.365186 -0.013129 -0.953688\n",
      "4 -0.591712 -1.323010 -0.417974\n"
     ]
    }
   ],
   "source": [
    "#test_data = \n",
    "housing_scared_test = preprocessor.transform(test_data)\n",
    "components = housing_pca.transform(housing_scared_test)\n",
    "var_ratio = housing_pca.explained_variance_ratio_\n",
    "print(var_ratio)\n",
    "print(components)\n",
    "housing_pcomp = pd.DataFrame(components)\n",
    "housing_pcomp = housing_pcomp.iloc[:,0:3]\n",
    "housing_pcomp.columns = ['Comp1', 'Comp2', \"Comp3\"]\n",
    "print(housing_pcomp.head())\n",
    "\n",
    "final_model = grid_search.best_estimator_"
   ]
  },
  {
   "cell_type": "code",
   "execution_count": 45,
   "metadata": {},
   "outputs": [],
   "source": [
    "test_data_ = final_model.predict(housing_pcomp)"
   ]
  },
  {
   "cell_type": "code",
   "execution_count": 46,
   "metadata": {},
   "outputs": [
    {
     "data": {
      "text/plain": [
       "array([148767.04761905, 147547.61904762, 192426.19047619, ...,\n",
       "       187358.33333333, 117234.38095238, 198942.85714286])"
      ]
     },
     "execution_count": 46,
     "metadata": {},
     "output_type": "execute_result"
    }
   ],
   "source": [
    "test_data_"
   ]
  },
  {
   "cell_type": "code",
   "execution_count": 47,
   "metadata": {},
   "outputs": [],
   "source": [
    "test_data_csv = pd.DataFrame({\n",
    "    \"Id\" : test_data.loc[:,\"Id\"],\n",
    "    \"SalePrice\" : test_data_\n",
    "})"
   ]
  },
  {
   "cell_type": "code",
   "execution_count": 48,
   "metadata": {},
   "outputs": [
    {
     "data": {
      "text/html": [
       "<div>\n",
       "<style scoped>\n",
       "    .dataframe tbody tr th:only-of-type {\n",
       "        vertical-align: middle;\n",
       "    }\n",
       "\n",
       "    .dataframe tbody tr th {\n",
       "        vertical-align: top;\n",
       "    }\n",
       "\n",
       "    .dataframe thead th {\n",
       "        text-align: right;\n",
       "    }\n",
       "</style>\n",
       "<table border=\"1\" class=\"dataframe\">\n",
       "  <thead>\n",
       "    <tr style=\"text-align: right;\">\n",
       "      <th></th>\n",
       "      <th>Id</th>\n",
       "      <th>SalePrice</th>\n",
       "    </tr>\n",
       "  </thead>\n",
       "  <tbody>\n",
       "    <tr>\n",
       "      <th>0</th>\n",
       "      <td>1461</td>\n",
       "      <td>148767.047619</td>\n",
       "    </tr>\n",
       "    <tr>\n",
       "      <th>1</th>\n",
       "      <td>1462</td>\n",
       "      <td>147547.619048</td>\n",
       "    </tr>\n",
       "    <tr>\n",
       "      <th>2</th>\n",
       "      <td>1463</td>\n",
       "      <td>192426.190476</td>\n",
       "    </tr>\n",
       "    <tr>\n",
       "      <th>3</th>\n",
       "      <td>1464</td>\n",
       "      <td>198644.380952</td>\n",
       "    </tr>\n",
       "    <tr>\n",
       "      <th>4</th>\n",
       "      <td>1465</td>\n",
       "      <td>184290.476190</td>\n",
       "    </tr>\n",
       "    <tr>\n",
       "      <th>...</th>\n",
       "      <td>...</td>\n",
       "      <td>...</td>\n",
       "    </tr>\n",
       "    <tr>\n",
       "      <th>1454</th>\n",
       "      <td>2915</td>\n",
       "      <td>121261.904762</td>\n",
       "    </tr>\n",
       "    <tr>\n",
       "      <th>1455</th>\n",
       "      <td>2916</td>\n",
       "      <td>112638.095238</td>\n",
       "    </tr>\n",
       "    <tr>\n",
       "      <th>1456</th>\n",
       "      <td>2917</td>\n",
       "      <td>187358.333333</td>\n",
       "    </tr>\n",
       "    <tr>\n",
       "      <th>1457</th>\n",
       "      <td>2918</td>\n",
       "      <td>117234.380952</td>\n",
       "    </tr>\n",
       "    <tr>\n",
       "      <th>1458</th>\n",
       "      <td>2919</td>\n",
       "      <td>198942.857143</td>\n",
       "    </tr>\n",
       "  </tbody>\n",
       "</table>\n",
       "<p>1459 rows × 2 columns</p>\n",
       "</div>"
      ],
      "text/plain": [
       "        Id      SalePrice\n",
       "0     1461  148767.047619\n",
       "1     1462  147547.619048\n",
       "2     1463  192426.190476\n",
       "3     1464  198644.380952\n",
       "4     1465  184290.476190\n",
       "...    ...            ...\n",
       "1454  2915  121261.904762\n",
       "1455  2916  112638.095238\n",
       "1456  2917  187358.333333\n",
       "1457  2918  117234.380952\n",
       "1458  2919  198942.857143\n",
       "\n",
       "[1459 rows x 2 columns]"
      ]
     },
     "execution_count": 48,
     "metadata": {},
     "output_type": "execute_result"
    }
   ],
   "source": [
    "test_data_csv"
   ]
  },
  {
   "cell_type": "code",
   "execution_count": 49,
   "metadata": {},
   "outputs": [],
   "source": [
    "test_data_csv.to_csv(\"submission.csv\", encoding='utf-8', index = False)"
   ]
  },
  {
   "cell_type": "code",
   "execution_count": null,
   "metadata": {},
   "outputs": [],
   "source": []
  }
 ],
 "metadata": {
  "kernelspec": {
   "display_name": "Python 3",
   "language": "python",
   "name": "python3"
  },
  "language_info": {
   "codemirror_mode": {
    "name": "ipython",
    "version": 3
   },
   "file_extension": ".py",
   "mimetype": "text/x-python",
   "name": "python",
   "nbconvert_exporter": "python",
   "pygments_lexer": "ipython3",
   "version": "3.8.3"
  }
 },
 "nbformat": 4,
 "nbformat_minor": 4
}
